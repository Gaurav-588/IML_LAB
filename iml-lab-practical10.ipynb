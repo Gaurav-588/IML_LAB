{
 "cells": [
  {
   "cell_type": "code",
   "execution_count": 1,
   "id": "17120b46",
   "metadata": {
    "execution": {
     "iopub.execute_input": "2023-11-06T10:52:50.479333Z",
     "iopub.status.busy": "2023-11-06T10:52:50.478669Z",
     "iopub.status.idle": "2023-11-06T10:52:50.897785Z",
     "shell.execute_reply": "2023-11-06T10:52:50.896479Z"
    },
    "papermill": {
     "duration": 0.426841,
     "end_time": "2023-11-06T10:52:50.900515",
     "exception": false,
     "start_time": "2023-11-06T10:52:50.473674",
     "status": "completed"
    },
    "tags": []
   },
   "outputs": [],
   "source": [
    "import pandas as pd"
   ]
  },
  {
   "cell_type": "markdown",
   "id": "7c6fa64e",
   "metadata": {
    "papermill": {
     "duration": 0.0045,
     "end_time": "2023-11-06T10:52:50.908163",
     "exception": false,
     "start_time": "2023-11-06T10:52:50.903663",
     "status": "completed"
    },
    "tags": []
   },
   "source": [
    "**Write a Pandas program to implement following operation**"
   ]
  },
  {
   "cell_type": "markdown",
   "id": "a2095462",
   "metadata": {
    "papermill": {
     "duration": 0.002532,
     "end_time": "2023-11-06T10:52:50.913614",
     "exception": false,
     "start_time": "2023-11-06T10:52:50.911082",
     "status": "completed"
    },
    "tags": []
   },
   "source": [
    "[1] --> to find and drop the missing values from the given dataset"
   ]
  },
  {
   "cell_type": "code",
   "execution_count": 2,
   "id": "73395f5f",
   "metadata": {
    "execution": {
     "iopub.execute_input": "2023-11-06T10:52:50.921387Z",
     "iopub.status.busy": "2023-11-06T10:52:50.920545Z",
     "iopub.status.idle": "2023-11-06T10:52:50.949874Z",
     "shell.execute_reply": "2023-11-06T10:52:50.948675Z"
    },
    "papermill": {
     "duration": 0.036723,
     "end_time": "2023-11-06T10:52:50.953120",
     "exception": false,
     "start_time": "2023-11-06T10:52:50.916397",
     "status": "completed"
    },
    "tags": []
   },
   "outputs": [
    {
     "name": "stdout",
     "output_type": "stream",
     "text": [
      "Dataframe: \n",
      "     A    B       C\n",
      "0  1.0  5.0   apple\n",
      "1  2.0  NaN  banana\n",
      "2  NaN  7.0   apple\n",
      "3  4.0  8.0  cherry\n",
      "4  2.0  5.0  banana\n",
      "\n",
      "Dataframe:\n",
      "     A    B       C\n",
      "0  1.0  5.0   apple\n",
      "3  4.0  8.0  cherry\n",
      "4  2.0  5.0  banana\n"
     ]
    }
   ],
   "source": [
    "data = {\n",
    "    'A': [1, 2, None, 4, 2],\n",
    "    'B': [5, None, 7, 8, 5],\n",
    "    'C': ['apple', 'banana', 'apple', 'cherry', 'banana']\n",
    "}\n",
    "\n",
    "df = pd.DataFrame(data)\n",
    "\n",
    "print(\"Dataframe: \")\n",
    "print(df)\n",
    "\n",
    "df.dropna(inplace=True)\n",
    "\n",
    "print(\"\\nDataframe:\")\n",
    "print(df)"
   ]
  },
  {
   "cell_type": "markdown",
   "id": "bc5fcdd3",
   "metadata": {
    "papermill": {
     "duration": 0.002615,
     "end_time": "2023-11-06T10:52:50.958740",
     "exception": false,
     "start_time": "2023-11-06T10:52:50.956125",
     "status": "completed"
    },
    "tags": []
   },
   "source": [
    "[2] --> to remove the duplicates from the given dataset"
   ]
  },
  {
   "cell_type": "code",
   "execution_count": 3,
   "id": "050dce23",
   "metadata": {
    "execution": {
     "iopub.execute_input": "2023-11-06T10:52:50.966239Z",
     "iopub.status.busy": "2023-11-06T10:52:50.965828Z",
     "iopub.status.idle": "2023-11-06T10:52:50.982289Z",
     "shell.execute_reply": "2023-11-06T10:52:50.981097Z"
    },
    "papermill": {
     "duration": 0.023617,
     "end_time": "2023-11-06T10:52:50.985160",
     "exception": false,
     "start_time": "2023-11-06T10:52:50.961543",
     "status": "completed"
    },
    "tags": []
   },
   "outputs": [
    {
     "name": "stdout",
     "output_type": "stream",
     "text": [
      "Dataframe: \n",
      "   A  B       C\n",
      "0  1  5   apple\n",
      "1  2  6  banana\n",
      "2  2  7   apple\n",
      "3  4  8  cherry\n",
      "4  2  9  banana\n",
      "\n",
      "Dataframe:\n",
      "   A  B       C\n",
      "0  1  5   apple\n",
      "1  2  6  banana\n",
      "3  4  8  cherry\n"
     ]
    }
   ],
   "source": [
    "data2 = {\n",
    "    'A': [1, 2, 2, 4, 2],\n",
    "    'B': [5, 6, 7, 8, 9],\n",
    "    'C': ['apple', 'banana', 'apple', 'cherry', 'banana']\n",
    "}\n",
    "\n",
    "df2 = pd.DataFrame(data2)\n",
    "\n",
    "print(\"Dataframe: \")\n",
    "print(df2)\n",
    "\n",
    "df2.drop_duplicates(subset='C', inplace=True)\n",
    "\n",
    "print(\"\\nDataframe:\")\n",
    "print(df2)"
   ]
  }
 ],
 "metadata": {
  "kernelspec": {
   "display_name": "Python 3",
   "language": "python",
   "name": "python3"
  },
  "language_info": {
   "codemirror_mode": {
    "name": "ipython",
    "version": 3
   },
   "file_extension": ".py",
   "mimetype": "text/x-python",
   "name": "python",
   "nbconvert_exporter": "python",
   "pygments_lexer": "ipython3",
   "version": "3.10.12"
  },
  "papermill": {
   "default_parameters": {},
   "duration": 4.67445,
   "end_time": "2023-11-06T10:52:51.511257",
   "environment_variables": {},
   "exception": null,
   "input_path": "__notebook__.ipynb",
   "output_path": "__notebook__.ipynb",
   "parameters": {},
   "start_time": "2023-11-06T10:52:46.836807",
   "version": "2.4.0"
  }
 },
 "nbformat": 4,
 "nbformat_minor": 5
}
