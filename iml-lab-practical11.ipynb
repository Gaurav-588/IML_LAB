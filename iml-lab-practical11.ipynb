{
 "cells": [
  {
   "cell_type": "markdown",
   "id": "0a8873e0",
   "metadata": {
    "papermill": {
     "duration": 0.003193,
     "end_time": "2023-11-06T10:54:10.722894",
     "exception": false,
     "start_time": "2023-11-06T10:54:10.719701",
     "status": "completed"
    },
    "tags": []
   },
   "source": [
    "**Write a Pandas program to filter all columns where all entries present, check which rows and columns has a NaN and finally drop rows with any NaNs from the given dataset.**"
   ]
  },
  {
   "cell_type": "code",
   "execution_count": 1,
   "id": "9d688fe1",
   "metadata": {
    "execution": {
     "iopub.execute_input": "2023-11-06T10:54:10.729218Z",
     "iopub.status.busy": "2023-11-06T10:54:10.728315Z",
     "iopub.status.idle": "2023-11-06T10:54:11.136083Z",
     "shell.execute_reply": "2023-11-06T10:54:11.134832Z"
    },
    "papermill": {
     "duration": 0.413626,
     "end_time": "2023-11-06T10:54:11.138567",
     "exception": false,
     "start_time": "2023-11-06T10:54:10.724941",
     "status": "completed"
    },
    "tags": []
   },
   "outputs": [
    {
     "name": "stdout",
     "output_type": "stream",
     "text": [
      "Dataframe:\n",
      "     A    B   C\n",
      "0  1.0  5.0   9\n",
      "1  2.0  NaN  10\n",
      "2  NaN  7.0  11\n",
      "3  4.0  8.0  12\n",
      "4  2.0  5.0  13\n",
      "\n",
      "Columns with no NaN values:\n",
      "    C\n",
      "0   9\n",
      "1  10\n",
      "2  11\n",
      "3  12\n",
      "4  13\n",
      "\n",
      "Rows with NaN values:\n",
      "     A    B   C\n",
      "1  2.0  NaN  10\n",
      "2  NaN  7.0  11\n",
      "\n",
      "Columns with NaN values:\n",
      "Index(['A', 'B'], dtype='object')\n",
      "\n",
      "Dataframe after dropping rows with NaN values:\n",
      "     A    B   C\n",
      "0  1.0  5.0   9\n",
      "3  4.0  8.0  12\n",
      "4  2.0  5.0  13\n"
     ]
    }
   ],
   "source": [
    "import pandas as pd\n",
    "import numpy as np\n",
    "\n",
    "data = {\n",
    "    'A': [1, 2, None, 4, 2],\n",
    "    'B': [5, None, 7, 8, 5],\n",
    "    'C': [9, 10, 11, 12, 13]\n",
    "}\n",
    "\n",
    "df = pd.DataFrame(data)\n",
    "\n",
    "print(\"Dataframe:\")\n",
    "print(df)\n",
    "\n",
    "filtered_columns = df.dropna(axis=1)\n",
    "print(\"\\nColumns with no NaN values:\")\n",
    "print(filtered_columns)\n",
    "\n",
    "nan_rows = df[df.isnull().any(axis=1)]\n",
    "nan_columns = df.columns[df.isnull().any()]\n",
    "\n",
    "print(\"\\nRows with NaN values:\")\n",
    "print(nan_rows)\n",
    "print(\"\\nColumns with NaN values:\")\n",
    "print(nan_columns)\n",
    "\n",
    "df_no_nan = df.dropna()\n",
    "print(\"\\nDataframe after dropping rows with NaN values:\")\n",
    "print(df_no_nan)"
   ]
  }
 ],
 "metadata": {
  "kernelspec": {
   "display_name": "Python 3",
   "language": "python",
   "name": "python3"
  },
  "language_info": {
   "codemirror_mode": {
    "name": "ipython",
    "version": 3
   },
   "file_extension": ".py",
   "mimetype": "text/x-python",
   "name": "python",
   "nbconvert_exporter": "python",
   "pygments_lexer": "ipython3",
   "version": "3.10.12"
  },
  "papermill": {
   "default_parameters": {},
   "duration": 4.312589,
   "end_time": "2023-11-06T10:54:11.660951",
   "environment_variables": {},
   "exception": null,
   "input_path": "__notebook__.ipynb",
   "output_path": "__notebook__.ipynb",
   "parameters": {},
   "start_time": "2023-11-06T10:54:07.348362",
   "version": "2.4.0"
  }
 },
 "nbformat": 4,
 "nbformat_minor": 5
}
