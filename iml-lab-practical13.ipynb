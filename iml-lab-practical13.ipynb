{
 "cells": [
  {
   "cell_type": "markdown",
   "id": "334b7aa6",
   "metadata": {
    "papermill": {
     "duration": 0.002116,
     "end_time": "2023-11-06T10:38:56.550882",
     "exception": false,
     "start_time": "2023-11-06T10:38:56.548766",
     "status": "completed"
    },
    "tags": []
   },
   "source": [
    "**Write a Python program to implement K-Nearest Neighbour supervised machine learning algorithm for given dataset.**"
   ]
  },
  {
   "cell_type": "code",
   "execution_count": 1,
   "id": "57585ea5",
   "metadata": {
    "execution": {
     "iopub.execute_input": "2023-11-06T10:38:56.556430Z",
     "iopub.status.busy": "2023-11-06T10:38:56.555977Z",
     "iopub.status.idle": "2023-11-06T10:38:58.741976Z",
     "shell.execute_reply": "2023-11-06T10:38:58.741166Z"
    },
    "papermill": {
     "duration": 2.193502,
     "end_time": "2023-11-06T10:38:58.746237",
     "exception": false,
     "start_time": "2023-11-06T10:38:56.552735",
     "status": "completed"
    },
    "tags": []
   },
   "outputs": [
    {
     "name": "stdout",
     "output_type": "stream",
     "text": [
      "K-NN Classifier with 3 neighbors\n",
      "Accuracy: 1.0\n",
      "Classification Report:\n",
      "               precision    recall  f1-score   support\n",
      "\n",
      "      setosa       1.00      1.00      1.00        10\n",
      "  versicolor       1.00      1.00      1.00         9\n",
      "   virginica       1.00      1.00      1.00        11\n",
      "\n",
      "    accuracy                           1.00        30\n",
      "   macro avg       1.00      1.00      1.00        30\n",
      "weighted avg       1.00      1.00      1.00        30\n",
      "\n"
     ]
    }
   ],
   "source": [
    "import numpy as np\n",
    "import pandas as pd\n",
    "from sklearn.model_selection import train_test_split\n",
    "from sklearn.neighbors import KNeighborsClassifier\n",
    "from sklearn.metrics import classification_report, accuracy_score\n",
    "from sklearn.datasets import load_iris\n",
    "\n",
    "data = load_iris()\n",
    "\n",
    "X = data.data\n",
    "y = data.target\n",
    "\n",
    "X_train, X_test, y_train, y_test = train_test_split(X, y, test_size=0.2, random_state=42)\n",
    "\n",
    "k = 3\n",
    "knn_classifier = KNeighborsClassifier(n_neighbors=k)\n",
    "\n",
    "knn_classifier.fit(X_train, y_train)\n",
    "\n",
    "y_pred = knn_classifier.predict(X_test)\n",
    "\n",
    "accuracy = accuracy_score(y_test, y_pred)\n",
    "classification_rep = classification_report(y_test, y_pred, target_names=data.target_names)\n",
    "\n",
    "print(\"K-NN Classifier with\", k, \"neighbors\")\n",
    "print(\"Accuracy:\", accuracy)\n",
    "print(\"Classification Report:\\n\", classification_rep)"
   ]
  }
 ],
 "metadata": {
  "kernelspec": {
   "display_name": "Python 3",
   "language": "python",
   "name": "python3"
  },
  "language_info": {
   "codemirror_mode": {
    "name": "ipython",
    "version": 3
   },
   "file_extension": ".py",
   "mimetype": "text/x-python",
   "name": "python",
   "nbconvert_exporter": "python",
   "pygments_lexer": "ipython3",
   "version": "3.10.12"
  },
  "papermill": {
   "default_parameters": {},
   "duration": 6.442513,
   "end_time": "2023-11-06T10:38:59.369169",
   "environment_variables": {},
   "exception": null,
   "input_path": "__notebook__.ipynb",
   "output_path": "__notebook__.ipynb",
   "parameters": {},
   "start_time": "2023-11-06T10:38:52.926656",
   "version": "2.4.0"
  }
 },
 "nbformat": 4,
 "nbformat_minor": 5
}
