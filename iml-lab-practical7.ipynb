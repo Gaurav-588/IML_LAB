{
 "cells": [
  {
   "cell_type": "code",
   "execution_count": 1,
   "id": "ad10c0e0",
   "metadata": {
    "execution": {
     "iopub.execute_input": "2023-11-06T10:48:24.778777Z",
     "iopub.status.busy": "2023-11-06T10:48:24.778312Z",
     "iopub.status.idle": "2023-11-06T10:48:25.206475Z",
     "shell.execute_reply": "2023-11-06T10:48:25.205351Z"
    },
    "papermill": {
     "duration": 0.437386,
     "end_time": "2023-11-06T10:48:25.209592",
     "exception": false,
     "start_time": "2023-11-06T10:48:24.772206",
     "status": "completed"
    },
    "tags": []
   },
   "outputs": [],
   "source": [
    "import pandas as pd"
   ]
  },
  {
   "cell_type": "markdown",
   "id": "0eb90fe6",
   "metadata": {
    "papermill": {
     "duration": 0.003543,
     "end_time": "2023-11-06T10:48:25.219549",
     "exception": false,
     "start_time": "2023-11-06T10:48:25.216006",
     "status": "completed"
    },
    "tags": []
   },
   "source": [
    "**Write a Pandas program to implement following operation**"
   ]
  },
  {
   "cell_type": "markdown",
   "id": "05f5dcb9",
   "metadata": {
    "papermill": {
     "duration": 0.003488,
     "end_time": "2023-11-06T10:48:25.226924",
     "exception": false,
     "start_time": "2023-11-06T10:48:25.223436",
     "status": "completed"
    },
    "tags": []
   },
   "source": [
    "[1] --> to create a dataframe from a dictionary and display it"
   ]
  },
  {
   "cell_type": "code",
   "execution_count": 2,
   "id": "850631b8",
   "metadata": {
    "execution": {
     "iopub.execute_input": "2023-11-06T10:48:25.236405Z",
     "iopub.status.busy": "2023-11-06T10:48:25.235844Z",
     "iopub.status.idle": "2023-11-06T10:48:25.257268Z",
     "shell.execute_reply": "2023-11-06T10:48:25.255844Z"
    },
    "papermill": {
     "duration": 0.029644,
     "end_time": "2023-11-06T10:48:25.260343",
     "exception": false,
     "start_time": "2023-11-06T10:48:25.230699",
     "status": "completed"
    },
    "tags": []
   },
   "outputs": [
    {
     "name": "stdout",
     "output_type": "stream",
     "text": [
      "Dataframe From Dictionary:\n",
      "      name  age       city\n",
      "0   Gaurav   17  Porbandar\n",
      "1   Kishan   22     Rajkot\n",
      "2  Chintan   17  Ahmedabad\n",
      "3    Hasan   17    Vadodra\n"
     ]
    }
   ],
   "source": [
    "data = {\n",
    "    \"name\": [\"Gaurav\", \"Kishan\", \"Chintan\", \"Hasan\"],\n",
    "    \"age\": [17, 22, 17, 17],\n",
    "    \"city\": [\"Porbandar\", \"Rajkot\", \"Ahmedabad\", \"Vadodra\"]\n",
    "}\n",
    "\n",
    "df = pd.DataFrame(data)\n",
    "\n",
    "print(\"Dataframe From Dictionary:\")\n",
    "print(df)"
   ]
  },
  {
   "cell_type": "markdown",
   "id": "25090a7a",
   "metadata": {
    "papermill": {
     "duration": 0.003678,
     "end_time": "2023-11-06T10:48:25.268396",
     "exception": false,
     "start_time": "2023-11-06T10:48:25.264718",
     "status": "completed"
    },
    "tags": []
   },
   "source": [
    "[2] --> to sort the DataFrame first by 'name' in ascending order"
   ]
  },
  {
   "cell_type": "code",
   "execution_count": 3,
   "id": "39cbb596",
   "metadata": {
    "execution": {
     "iopub.execute_input": "2023-11-06T10:48:25.277883Z",
     "iopub.status.busy": "2023-11-06T10:48:25.277509Z",
     "iopub.status.idle": "2023-11-06T10:48:25.290814Z",
     "shell.execute_reply": "2023-11-06T10:48:25.289980Z"
    },
    "papermill": {
     "duration": 0.021221,
     "end_time": "2023-11-06T10:48:25.293475",
     "exception": false,
     "start_time": "2023-11-06T10:48:25.272254",
     "status": "completed"
    },
    "tags": []
   },
   "outputs": [
    {
     "name": "stdout",
     "output_type": "stream",
     "text": [
      "Sorted Dataframe:\n",
      "      name  age       city\n",
      "2  Chintan   17  Ahmedabad\n",
      "0   Gaurav   17  Porbandar\n",
      "3    Hasan   17    Vadodra\n",
      "1   Kishan   22     Rajkot\n"
     ]
    }
   ],
   "source": [
    "df.sort_values(by=\"name\", ascending=True, inplace=True)\n",
    "\n",
    "print(\"Sorted Dataframe:\")\n",
    "print(df)"
   ]
  },
  {
   "cell_type": "markdown",
   "id": "3a8d3a84",
   "metadata": {
    "papermill": {
     "duration": 0.003965,
     "end_time": "2023-11-06T10:48:25.301835",
     "exception": false,
     "start_time": "2023-11-06T10:48:25.297870",
     "status": "completed"
    },
    "tags": []
   },
   "source": [
    "[3] --> to delete the one specific column from the DataFrame"
   ]
  },
  {
   "cell_type": "code",
   "execution_count": 4,
   "id": "8f2920a4",
   "metadata": {
    "execution": {
     "iopub.execute_input": "2023-11-06T10:48:25.312113Z",
     "iopub.status.busy": "2023-11-06T10:48:25.311335Z",
     "iopub.status.idle": "2023-11-06T10:48:25.324365Z",
     "shell.execute_reply": "2023-11-06T10:48:25.323365Z"
    },
    "papermill": {
     "duration": 0.021254,
     "end_time": "2023-11-06T10:48:25.327019",
     "exception": false,
     "start_time": "2023-11-06T10:48:25.305765",
     "status": "completed"
    },
    "tags": []
   },
   "outputs": [
    {
     "name": "stdout",
     "output_type": "stream",
     "text": [
      "Dataframe:\n",
      "      name       city\n",
      "2  Chintan  Ahmedabad\n",
      "0   Gaurav  Porbandar\n",
      "3    Hasan    Vadodra\n",
      "1   Kishan     Rajkot\n"
     ]
    }
   ],
   "source": [
    "df.drop(\"age\", axis=1, inplace=True)\n",
    "\n",
    "print(\"Dataframe:\")\n",
    "print(df)"
   ]
  },
  {
   "cell_type": "markdown",
   "id": "b3255786",
   "metadata": {
    "papermill": {
     "duration": 0.003822,
     "end_time": "2023-11-06T10:48:25.335068",
     "exception": false,
     "start_time": "2023-11-06T10:48:25.331246",
     "status": "completed"
    },
    "tags": []
   },
   "source": [
    "[4] --> to write a DataFrame to CSV file using tab separator"
   ]
  },
  {
   "cell_type": "code",
   "execution_count": 5,
   "id": "77296344",
   "metadata": {
    "execution": {
     "iopub.execute_input": "2023-11-06T10:48:25.345009Z",
     "iopub.status.busy": "2023-11-06T10:48:25.344565Z",
     "iopub.status.idle": "2023-11-06T10:48:25.356177Z",
     "shell.execute_reply": "2023-11-06T10:48:25.354854Z"
    },
    "papermill": {
     "duration": 0.019614,
     "end_time": "2023-11-06T10:48:25.358641",
     "exception": false,
     "start_time": "2023-11-06T10:48:25.339027",
     "status": "completed"
    },
    "tags": []
   },
   "outputs": [
    {
     "name": "stdout",
     "output_type": "stream",
     "text": [
      "Data written successfully\n"
     ]
    }
   ],
   "source": [
    "df.to_csv('data.csv', sep='\\t', index=False)\n",
    "\n",
    "print(\"Data written successfully\")"
   ]
  }
 ],
 "metadata": {
  "kernelspec": {
   "display_name": "Python 3",
   "language": "python",
   "name": "python3"
  },
  "language_info": {
   "codemirror_mode": {
    "name": "ipython",
    "version": 3
   },
   "file_extension": ".py",
   "mimetype": "text/x-python",
   "name": "python",
   "nbconvert_exporter": "python",
   "pygments_lexer": "ipython3",
   "version": "3.10.12"
  },
  "papermill": {
   "default_parameters": {},
   "duration": 4.959952,
   "end_time": "2023-11-06T10:48:25.883109",
   "environment_variables": {},
   "exception": null,
   "input_path": "__notebook__.ipynb",
   "output_path": "__notebook__.ipynb",
   "parameters": {},
   "start_time": "2023-11-06T10:48:20.923157",
   "version": "2.4.0"
  }
 },
 "nbformat": 4,
 "nbformat_minor": 5
}
