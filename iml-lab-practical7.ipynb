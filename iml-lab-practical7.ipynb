{
 "cells": [
  {
   "cell_type": "code",
   "execution_count": 1,
   "id": "d3582b74",
   "metadata": {
    "execution": {
     "iopub.execute_input": "2023-11-06T10:47:27.334773Z",
     "iopub.status.busy": "2023-11-06T10:47:27.333669Z",
     "iopub.status.idle": "2023-11-06T10:47:27.859138Z",
     "shell.execute_reply": "2023-11-06T10:47:27.858054Z"
    },
    "papermill": {
     "duration": 0.535525,
     "end_time": "2023-11-06T10:47:27.862090",
     "exception": false,
     "start_time": "2023-11-06T10:47:27.326565",
     "status": "completed"
    },
    "tags": []
   },
   "outputs": [],
   "source": [
    "import pandas as pd"
   ]
  },
  {
   "cell_type": "markdown",
   "id": "13dee583",
   "metadata": {
    "papermill": {
     "duration": 0.003855,
     "end_time": "2023-11-06T10:47:27.872693",
     "exception": false,
     "start_time": "2023-11-06T10:47:27.868838",
     "status": "completed"
    },
    "tags": []
   },
   "source": [
    "**Write a Pandas program to implement following operation**"
   ]
  },
  {
   "cell_type": "markdown",
   "id": "6d99bbae",
   "metadata": {
    "papermill": {
     "duration": 0.00356,
     "end_time": "2023-11-06T10:47:27.880228",
     "exception": false,
     "start_time": "2023-11-06T10:47:27.876668",
     "status": "completed"
    },
    "tags": []
   },
   "source": [
    "[1] --> to create a dataframe from a dictionary and display it"
   ]
  },
  {
   "cell_type": "code",
   "execution_count": 2,
   "id": "5fd62643",
   "metadata": {
    "execution": {
     "iopub.execute_input": "2023-11-06T10:47:27.891131Z",
     "iopub.status.busy": "2023-11-06T10:47:27.890302Z",
     "iopub.status.idle": "2023-11-06T10:47:27.914322Z",
     "shell.execute_reply": "2023-11-06T10:47:27.913034Z"
    },
    "papermill": {
     "duration": 0.032691,
     "end_time": "2023-11-06T10:47:27.917445",
     "exception": false,
     "start_time": "2023-11-06T10:47:27.884754",
     "status": "completed"
    },
    "tags": []
   },
   "outputs": [
    {
     "name": "stdout",
     "output_type": "stream",
     "text": [
      "Dataframe From Dictionary:\n",
      "      name  age       city\n",
      "0   Gaurav   17  Porbandar\n",
      "1   Kishan   22     Rajkot\n",
      "2  Chintan   17  Ahmedabad\n",
      "3    Hasan   17    Vadodra\n"
     ]
    }
   ],
   "source": [
    "data = {\n",
    "    \"name\": [\"Gaurav\", \"Kishan\", \"Chintan\", \"Hasan\"],\n",
    "    \"age\": [17, 22, 17, 17],\n",
    "    \"city\": [\"Porbandar\", \"Rajkot\", \"Ahmedabad\", \"Vadodra\"]\n",
    "}\n",
    "\n",
    "df = pd.DataFrame(data)\n",
    "\n",
    "print(\"Dataframe From Dictionary:\")\n",
    "print(df)"
   ]
  },
  {
   "cell_type": "markdown",
   "id": "6e2a4052",
   "metadata": {
    "papermill": {
     "duration": 0.003588,
     "end_time": "2023-11-06T10:47:27.925398",
     "exception": false,
     "start_time": "2023-11-06T10:47:27.921810",
     "status": "completed"
    },
    "tags": []
   },
   "source": [
    "[2] --> to sort the DataFrame first by 'name' in ascending order"
   ]
  },
  {
   "cell_type": "code",
   "execution_count": 3,
   "id": "b27e94c0",
   "metadata": {
    "execution": {
     "iopub.execute_input": "2023-11-06T10:47:27.935941Z",
     "iopub.status.busy": "2023-11-06T10:47:27.935152Z",
     "iopub.status.idle": "2023-11-06T10:47:27.951005Z",
     "shell.execute_reply": "2023-11-06T10:47:27.950103Z"
    },
    "papermill": {
     "duration": 0.024344,
     "end_time": "2023-11-06T10:47:27.953537",
     "exception": false,
     "start_time": "2023-11-06T10:47:27.929193",
     "status": "completed"
    },
    "tags": []
   },
   "outputs": [
    {
     "name": "stdout",
     "output_type": "stream",
     "text": [
      "Sorted Dataframe:\n",
      "      name  age       city\n",
      "2  Chintan   17  Ahmedabad\n",
      "0   Gaurav   17  Porbandar\n",
      "3    Hasan   17    Vadodra\n",
      "1   Kishan   22     Rajkot\n"
     ]
    }
   ],
   "source": [
    "df.sort_values(by=\"name\", ascending=True, inplace=True)\n",
    "\n",
    "print(\"Sorted Dataframe:\")\n",
    "print(df)"
   ]
  },
  {
   "cell_type": "markdown",
   "id": "0cc7f36f",
   "metadata": {
    "papermill": {
     "duration": 0.00363,
     "end_time": "2023-11-06T10:47:27.961398",
     "exception": false,
     "start_time": "2023-11-06T10:47:27.957768",
     "status": "completed"
    },
    "tags": []
   },
   "source": [
    "[3] --> to delete the one specific column from the DataFrame"
   ]
  },
  {
   "cell_type": "code",
   "execution_count": 4,
   "id": "066b018f",
   "metadata": {
    "execution": {
     "iopub.execute_input": "2023-11-06T10:47:27.971338Z",
     "iopub.status.busy": "2023-11-06T10:47:27.970892Z",
     "iopub.status.idle": "2023-11-06T10:47:27.988423Z",
     "shell.execute_reply": "2023-11-06T10:47:27.987091Z"
    },
    "papermill": {
     "duration": 0.025832,
     "end_time": "2023-11-06T10:47:27.991094",
     "exception": false,
     "start_time": "2023-11-06T10:47:27.965262",
     "status": "completed"
    },
    "tags": []
   },
   "outputs": [
    {
     "name": "stdout",
     "output_type": "stream",
     "text": [
      "Dataframe:\n",
      "      name       city\n",
      "2  Chintan  Ahmedabad\n",
      "0   Gaurav  Porbandar\n",
      "3    Hasan    Vadodra\n",
      "1   Kishan     Rajkot\n"
     ]
    }
   ],
   "source": [
    "df.drop(\"age\", axis=1, inplace=True)\n",
    "\n",
    "print(\"Dataframe:\")\n",
    "print(df)"
   ]
  },
  {
   "cell_type": "markdown",
   "id": "98132a04",
   "metadata": {
    "papermill": {
     "duration": 0.003944,
     "end_time": "2023-11-06T10:47:27.999493",
     "exception": false,
     "start_time": "2023-11-06T10:47:27.995549",
     "status": "completed"
    },
    "tags": []
   },
   "source": [
    "[4] --> to write a DataFrame to CSV file using tab separator"
   ]
  },
  {
   "cell_type": "code",
   "execution_count": 5,
   "id": "51a3953e",
   "metadata": {
    "execution": {
     "iopub.execute_input": "2023-11-06T10:47:28.011688Z",
     "iopub.status.busy": "2023-11-06T10:47:28.010562Z",
     "iopub.status.idle": "2023-11-06T10:47:28.022464Z",
     "shell.execute_reply": "2023-11-06T10:47:28.021646Z"
    },
    "papermill": {
     "duration": 0.020952,
     "end_time": "2023-11-06T10:47:28.025230",
     "exception": false,
     "start_time": "2023-11-06T10:47:28.004278",
     "status": "completed"
    },
    "tags": []
   },
   "outputs": [
    {
     "name": "stdout",
     "output_type": "stream",
     "text": [
      "Data written successfully\n"
     ]
    }
   ],
   "source": [
    "df.to_csv('data.csv', sep='\\t', index=False)\n",
    "\n",
    "print(\"Data written successfully\")"
   ]
  }
 ],
 "metadata": {
  "kernelspec": {
   "display_name": "Python 3",
   "language": "python",
   "name": "python3"
  },
  "language_info": {
   "codemirror_mode": {
    "name": "ipython",
    "version": 3
   },
   "file_extension": ".py",
   "mimetype": "text/x-python",
   "name": "python",
   "nbconvert_exporter": "python",
   "pygments_lexer": "ipython3",
   "version": "3.10.12"
  },
  "papermill": {
   "default_parameters": {},
   "duration": 5.528048,
   "end_time": "2023-11-06T10:47:28.752743",
   "environment_variables": {},
   "exception": null,
   "input_path": "__notebook__.ipynb",
   "output_path": "__notebook__.ipynb",
   "parameters": {},
   "start_time": "2023-11-06T10:47:23.224695",
   "version": "2.4.0"
  }
 },
 "nbformat": 4,
 "nbformat_minor": 5
}
